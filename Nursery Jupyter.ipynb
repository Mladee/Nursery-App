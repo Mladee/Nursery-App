{
 "cells": [
  {
   "cell_type": "code",
   "execution_count": 1,
   "id": "ec48417b-8fb6-417b-8586-657ce0885830",
   "metadata": {},
   "outputs": [],
   "source": [
    "import pandas as pd\n",
    "import numpy as np"
   ]
  },
  {
   "cell_type": "code",
   "execution_count": 2,
   "id": "221163b2-4e4a-44f3-9e5a-921a731a4fc4",
   "metadata": {},
   "outputs": [
    {
     "data": {
      "text/html": [
       "<div>\n",
       "<style scoped>\n",
       "    .dataframe tbody tr th:only-of-type {\n",
       "        vertical-align: middle;\n",
       "    }\n",
       "\n",
       "    .dataframe tbody tr th {\n",
       "        vertical-align: top;\n",
       "    }\n",
       "\n",
       "    .dataframe thead th {\n",
       "        text-align: right;\n",
       "    }\n",
       "</style>\n",
       "<table border=\"1\" class=\"dataframe\">\n",
       "  <thead>\n",
       "    <tr style=\"text-align: right;\">\n",
       "      <th></th>\n",
       "      <th>Parents</th>\n",
       "      <th>Nursery</th>\n",
       "      <th>Form</th>\n",
       "      <th>Children</th>\n",
       "      <th>Housing</th>\n",
       "      <th>Finance</th>\n",
       "      <th>Social</th>\n",
       "      <th>Health</th>\n",
       "      <th>Class</th>\n",
       "    </tr>\n",
       "  </thead>\n",
       "  <tbody>\n",
       "    <tr>\n",
       "      <th>0</th>\n",
       "      <td>usual</td>\n",
       "      <td>proper</td>\n",
       "      <td>complete</td>\n",
       "      <td>1</td>\n",
       "      <td>convenient</td>\n",
       "      <td>convenient</td>\n",
       "      <td>nonprob</td>\n",
       "      <td>recommended</td>\n",
       "      <td>recommend</td>\n",
       "    </tr>\n",
       "    <tr>\n",
       "      <th>1</th>\n",
       "      <td>usual</td>\n",
       "      <td>proper</td>\n",
       "      <td>complete</td>\n",
       "      <td>1</td>\n",
       "      <td>convenient</td>\n",
       "      <td>convenient</td>\n",
       "      <td>nonprob</td>\n",
       "      <td>priority</td>\n",
       "      <td>priority</td>\n",
       "    </tr>\n",
       "    <tr>\n",
       "      <th>2</th>\n",
       "      <td>usual</td>\n",
       "      <td>proper</td>\n",
       "      <td>complete</td>\n",
       "      <td>1</td>\n",
       "      <td>convenient</td>\n",
       "      <td>convenient</td>\n",
       "      <td>nonprob</td>\n",
       "      <td>not_recom</td>\n",
       "      <td>not_recom</td>\n",
       "    </tr>\n",
       "    <tr>\n",
       "      <th>3</th>\n",
       "      <td>usual</td>\n",
       "      <td>proper</td>\n",
       "      <td>complete</td>\n",
       "      <td>1</td>\n",
       "      <td>convenient</td>\n",
       "      <td>convenient</td>\n",
       "      <td>slightly_prob</td>\n",
       "      <td>recommended</td>\n",
       "      <td>recommend</td>\n",
       "    </tr>\n",
       "    <tr>\n",
       "      <th>4</th>\n",
       "      <td>usual</td>\n",
       "      <td>proper</td>\n",
       "      <td>complete</td>\n",
       "      <td>1</td>\n",
       "      <td>convenient</td>\n",
       "      <td>convenient</td>\n",
       "      <td>slightly_prob</td>\n",
       "      <td>priority</td>\n",
       "      <td>priority</td>\n",
       "    </tr>\n",
       "  </tbody>\n",
       "</table>\n",
       "</div>"
      ],
      "text/plain": [
       "  Parents Nursery      Form Children     Housing     Finance         Social  \\\n",
       "0   usual  proper  complete        1  convenient  convenient        nonprob   \n",
       "1   usual  proper  complete        1  convenient  convenient        nonprob   \n",
       "2   usual  proper  complete        1  convenient  convenient        nonprob   \n",
       "3   usual  proper  complete        1  convenient  convenient  slightly_prob   \n",
       "4   usual  proper  complete        1  convenient  convenient  slightly_prob   \n",
       "\n",
       "        Health      Class  \n",
       "0  recommended  recommend  \n",
       "1     priority   priority  \n",
       "2    not_recom  not_recom  \n",
       "3  recommended  recommend  \n",
       "4     priority   priority  "
      ]
     },
     "execution_count": 2,
     "metadata": {},
     "output_type": "execute_result"
    }
   ],
   "source": [
    "column_names = ['Parents','Nursery','Form','Children','Housing','Finance','Social','Health','Class']\n",
    "data = pd.read_csv('nursery.data', names = column_names, header = None)\n",
    "data.head()"
   ]
  },
  {
   "cell_type": "code",
   "execution_count": 3,
   "id": "d878caaa-a626-42b5-b01f-2dd39e31ca93",
   "metadata": {},
   "outputs": [],
   "source": [
    "for i in range(len(data['Children'])):\n",
    "    if data['Children'][i] == 'more':\n",
    "         data['Children'][i] = 4\n",
    "        "
   ]
  },
  {
   "cell_type": "code",
   "execution_count": 4,
   "id": "a89e4ddf-619c-4ece-bbe9-6e1ec5c81d16",
   "metadata": {},
   "outputs": [
    {
     "data": {
      "text/plain": [
       "array(['1', '2', '3', 4], dtype=object)"
      ]
     },
     "execution_count": 4,
     "metadata": {},
     "output_type": "execute_result"
    }
   ],
   "source": [
    "data['Children'].unique()"
   ]
  },
  {
   "cell_type": "code",
   "execution_count": 5,
   "id": "75afff9b-af7c-4b8f-a247-55830823a4cf",
   "metadata": {},
   "outputs": [],
   "source": [
    "data['Children'] = data['Children'].astype(int)"
   ]
  },
  {
   "cell_type": "code",
   "execution_count": 6,
   "id": "a554863c-717d-4020-b782-2e137a4fe941",
   "metadata": {},
   "outputs": [
    {
     "data": {
      "text/plain": [
       "Parents     object\n",
       "Nursery     object\n",
       "Form        object\n",
       "Children     int32\n",
       "Housing     object\n",
       "Finance     object\n",
       "Social      object\n",
       "Health      object\n",
       "Class       object\n",
       "dtype: object"
      ]
     },
     "execution_count": 6,
     "metadata": {},
     "output_type": "execute_result"
    }
   ],
   "source": [
    "data.dtypes"
   ]
  },
  {
   "cell_type": "code",
   "execution_count": 7,
   "id": "5c330522-2fa2-4025-ae7b-c47ab2b4f51d",
   "metadata": {},
   "outputs": [],
   "source": [
    "from sklearn.preprocessing import LabelEncoder"
   ]
  },
  {
   "cell_type": "code",
   "execution_count": 8,
   "id": "f66746e0-4058-475b-bed2-0a2fcbfb4f4f",
   "metadata": {},
   "outputs": [],
   "source": [
    "labenc = LabelEncoder()"
   ]
  },
  {
   "cell_type": "code",
   "execution_count": 9,
   "id": "c073025b-46a3-4ccb-95a4-bd558dfd1626",
   "metadata": {},
   "outputs": [
    {
     "data": {
      "text/plain": [
       "Index(['Parents', 'Nursery', 'Form', 'Children', 'Housing', 'Finance',\n",
       "       'Social', 'Health', 'Class'],\n",
       "      dtype='object')"
      ]
     },
     "execution_count": 9,
     "metadata": {},
     "output_type": "execute_result"
    }
   ],
   "source": [
    "data.columns"
   ]
  },
  {
   "cell_type": "code",
   "execution_count": 10,
   "id": "bf1f7595-f0d6-4cbe-9eb4-04eaa7bed0c5",
   "metadata": {},
   "outputs": [],
   "source": [
    "data['Parents'] = labenc.fit_transform(data['Parents'])\n",
    "data['Nursery'] = labenc.fit_transform(data['Nursery'])\n",
    "data['Form'] = labenc.fit_transform(data['Form'])\n",
    "data['Housing'] = labenc.fit_transform(data['Housing'])\n",
    "data['Finance'] = labenc.fit_transform(data['Finance'])\n",
    "data['Social'] = labenc.fit_transform(data['Social'])\n",
    "data['Health'] = labenc.fit_transform(data['Health'])\n"
   ]
  },
  {
   "cell_type": "code",
   "execution_count": 11,
   "id": "05899242-7dee-4506-933e-c0e17dad73de",
   "metadata": {},
   "outputs": [
    {
     "data": {
      "text/html": [
       "<div>\n",
       "<style scoped>\n",
       "    .dataframe tbody tr th:only-of-type {\n",
       "        vertical-align: middle;\n",
       "    }\n",
       "\n",
       "    .dataframe tbody tr th {\n",
       "        vertical-align: top;\n",
       "    }\n",
       "\n",
       "    .dataframe thead th {\n",
       "        text-align: right;\n",
       "    }\n",
       "</style>\n",
       "<table border=\"1\" class=\"dataframe\">\n",
       "  <thead>\n",
       "    <tr style=\"text-align: right;\">\n",
       "      <th></th>\n",
       "      <th>Parents</th>\n",
       "      <th>Nursery</th>\n",
       "      <th>Form</th>\n",
       "      <th>Children</th>\n",
       "      <th>Housing</th>\n",
       "      <th>Finance</th>\n",
       "      <th>Social</th>\n",
       "      <th>Health</th>\n",
       "      <th>Class</th>\n",
       "    </tr>\n",
       "  </thead>\n",
       "  <tbody>\n",
       "    <tr>\n",
       "      <th>0</th>\n",
       "      <td>2</td>\n",
       "      <td>3</td>\n",
       "      <td>0</td>\n",
       "      <td>1</td>\n",
       "      <td>0</td>\n",
       "      <td>0</td>\n",
       "      <td>0</td>\n",
       "      <td>2</td>\n",
       "      <td>recommend</td>\n",
       "    </tr>\n",
       "    <tr>\n",
       "      <th>1</th>\n",
       "      <td>2</td>\n",
       "      <td>3</td>\n",
       "      <td>0</td>\n",
       "      <td>1</td>\n",
       "      <td>0</td>\n",
       "      <td>0</td>\n",
       "      <td>0</td>\n",
       "      <td>1</td>\n",
       "      <td>priority</td>\n",
       "    </tr>\n",
       "    <tr>\n",
       "      <th>2</th>\n",
       "      <td>2</td>\n",
       "      <td>3</td>\n",
       "      <td>0</td>\n",
       "      <td>1</td>\n",
       "      <td>0</td>\n",
       "      <td>0</td>\n",
       "      <td>0</td>\n",
       "      <td>0</td>\n",
       "      <td>not_recom</td>\n",
       "    </tr>\n",
       "    <tr>\n",
       "      <th>3</th>\n",
       "      <td>2</td>\n",
       "      <td>3</td>\n",
       "      <td>0</td>\n",
       "      <td>1</td>\n",
       "      <td>0</td>\n",
       "      <td>0</td>\n",
       "      <td>2</td>\n",
       "      <td>2</td>\n",
       "      <td>recommend</td>\n",
       "    </tr>\n",
       "    <tr>\n",
       "      <th>4</th>\n",
       "      <td>2</td>\n",
       "      <td>3</td>\n",
       "      <td>0</td>\n",
       "      <td>1</td>\n",
       "      <td>0</td>\n",
       "      <td>0</td>\n",
       "      <td>2</td>\n",
       "      <td>1</td>\n",
       "      <td>priority</td>\n",
       "    </tr>\n",
       "  </tbody>\n",
       "</table>\n",
       "</div>"
      ],
      "text/plain": [
       "   Parents  Nursery  Form  Children  Housing  Finance  Social  Health  \\\n",
       "0        2        3     0         1        0        0       0       2   \n",
       "1        2        3     0         1        0        0       0       1   \n",
       "2        2        3     0         1        0        0       0       0   \n",
       "3        2        3     0         1        0        0       2       2   \n",
       "4        2        3     0         1        0        0       2       1   \n",
       "\n",
       "       Class  \n",
       "0  recommend  \n",
       "1   priority  \n",
       "2  not_recom  \n",
       "3  recommend  \n",
       "4   priority  "
      ]
     },
     "execution_count": 11,
     "metadata": {},
     "output_type": "execute_result"
    }
   ],
   "source": [
    "data.head()"
   ]
  },
  {
   "cell_type": "code",
   "execution_count": 12,
   "id": "49753dfa-4787-47b7-8c91-3ca13adca1ba",
   "metadata": {},
   "outputs": [
    {
     "data": {
      "text/plain": [
       "Parents      int32\n",
       "Nursery      int32\n",
       "Form         int32\n",
       "Children     int32\n",
       "Housing      int32\n",
       "Finance      int32\n",
       "Social       int32\n",
       "Health       int32\n",
       "Class       object\n",
       "dtype: object"
      ]
     },
     "execution_count": 12,
     "metadata": {},
     "output_type": "execute_result"
    }
   ],
   "source": [
    "data.dtypes"
   ]
  },
  {
   "cell_type": "code",
   "execution_count": 13,
   "id": "4d497f7f-2ae8-400c-b574-2f20107e8ab0",
   "metadata": {},
   "outputs": [
    {
     "data": {
      "text/plain": [
       "not_recom     4320\n",
       "priority      4266\n",
       "spec_prior    4044\n",
       "very_recom     328\n",
       "recommend        2\n",
       "Name: Class, dtype: int64"
      ]
     },
     "execution_count": 13,
     "metadata": {},
     "output_type": "execute_result"
    }
   ],
   "source": [
    "data['Class'].value_counts()"
   ]
  },
  {
   "cell_type": "code",
   "execution_count": 14,
   "id": "23f70aeb-a9f6-4475-8956-a4f8aafc852d",
   "metadata": {},
   "outputs": [],
   "source": [
    "data['Class'] = data['Class'].map({'not_recom' : 0, 'recommend' : 1, 'very_recom' : 2, \n",
    "                                   'priority' : 3, 'spec_prior' : 4})"
   ]
  },
  {
   "cell_type": "code",
   "execution_count": 15,
   "id": "58a8126e-7b26-4c5f-a201-0f4b7882da42",
   "metadata": {},
   "outputs": [
    {
     "data": {
      "text/html": [
       "<div>\n",
       "<style scoped>\n",
       "    .dataframe tbody tr th:only-of-type {\n",
       "        vertical-align: middle;\n",
       "    }\n",
       "\n",
       "    .dataframe tbody tr th {\n",
       "        vertical-align: top;\n",
       "    }\n",
       "\n",
       "    .dataframe thead th {\n",
       "        text-align: right;\n",
       "    }\n",
       "</style>\n",
       "<table border=\"1\" class=\"dataframe\">\n",
       "  <thead>\n",
       "    <tr style=\"text-align: right;\">\n",
       "      <th></th>\n",
       "      <th>Parents</th>\n",
       "      <th>Nursery</th>\n",
       "      <th>Form</th>\n",
       "      <th>Children</th>\n",
       "      <th>Housing</th>\n",
       "      <th>Finance</th>\n",
       "      <th>Social</th>\n",
       "      <th>Health</th>\n",
       "      <th>Class</th>\n",
       "    </tr>\n",
       "  </thead>\n",
       "  <tbody>\n",
       "    <tr>\n",
       "      <th>0</th>\n",
       "      <td>2</td>\n",
       "      <td>3</td>\n",
       "      <td>0</td>\n",
       "      <td>1</td>\n",
       "      <td>0</td>\n",
       "      <td>0</td>\n",
       "      <td>0</td>\n",
       "      <td>2</td>\n",
       "      <td>1</td>\n",
       "    </tr>\n",
       "    <tr>\n",
       "      <th>1</th>\n",
       "      <td>2</td>\n",
       "      <td>3</td>\n",
       "      <td>0</td>\n",
       "      <td>1</td>\n",
       "      <td>0</td>\n",
       "      <td>0</td>\n",
       "      <td>0</td>\n",
       "      <td>1</td>\n",
       "      <td>3</td>\n",
       "    </tr>\n",
       "    <tr>\n",
       "      <th>2</th>\n",
       "      <td>2</td>\n",
       "      <td>3</td>\n",
       "      <td>0</td>\n",
       "      <td>1</td>\n",
       "      <td>0</td>\n",
       "      <td>0</td>\n",
       "      <td>0</td>\n",
       "      <td>0</td>\n",
       "      <td>0</td>\n",
       "    </tr>\n",
       "    <tr>\n",
       "      <th>3</th>\n",
       "      <td>2</td>\n",
       "      <td>3</td>\n",
       "      <td>0</td>\n",
       "      <td>1</td>\n",
       "      <td>0</td>\n",
       "      <td>0</td>\n",
       "      <td>2</td>\n",
       "      <td>2</td>\n",
       "      <td>1</td>\n",
       "    </tr>\n",
       "    <tr>\n",
       "      <th>4</th>\n",
       "      <td>2</td>\n",
       "      <td>3</td>\n",
       "      <td>0</td>\n",
       "      <td>1</td>\n",
       "      <td>0</td>\n",
       "      <td>0</td>\n",
       "      <td>2</td>\n",
       "      <td>1</td>\n",
       "      <td>3</td>\n",
       "    </tr>\n",
       "  </tbody>\n",
       "</table>\n",
       "</div>"
      ],
      "text/plain": [
       "   Parents  Nursery  Form  Children  Housing  Finance  Social  Health  Class\n",
       "0        2        3     0         1        0        0       0       2      1\n",
       "1        2        3     0         1        0        0       0       1      3\n",
       "2        2        3     0         1        0        0       0       0      0\n",
       "3        2        3     0         1        0        0       2       2      1\n",
       "4        2        3     0         1        0        0       2       1      3"
      ]
     },
     "execution_count": 15,
     "metadata": {},
     "output_type": "execute_result"
    }
   ],
   "source": [
    "data.head()"
   ]
  },
  {
   "cell_type": "code",
   "execution_count": 16,
   "id": "de3474ed-f184-48f5-ad80-30679086099b",
   "metadata": {},
   "outputs": [],
   "source": [
    "X = data.drop('Class', axis = 1)\n",
    "y = data['Class']"
   ]
  },
  {
   "cell_type": "code",
   "execution_count": 17,
   "id": "67f1f6d8-21c9-4b02-9263-2dd5a91f95da",
   "metadata": {},
   "outputs": [],
   "source": [
    "from sklearn.model_selection import train_test_split\n",
    "\n",
    "X_train,X_test,y_train,y_test = train_test_split(X,y,test_size = 0.25,random_state = 1)"
   ]
  },
  {
   "cell_type": "code",
   "execution_count": 18,
   "id": "e1e33026-8ba5-47f7-abaf-56ab39cafef9",
   "metadata": {},
   "outputs": [],
   "source": [
    "from catboost import CatBoostClassifier"
   ]
  },
  {
   "cell_type": "code",
   "execution_count": 22,
   "id": "33c7e7c1-3b6d-40c6-ae13-4393d51cbad9",
   "metadata": {},
   "outputs": [
    {
     "name": "stdout",
     "output_type": "stream",
     "text": [
      "Learning rate set to 0.5\n",
      "0:\tlearn: 0.6335171\ttotal: 3.83ms\tremaining: 92ms\n",
      "1:\tlearn: 0.4383655\ttotal: 7.42ms\tremaining: 85.3ms\n",
      "2:\tlearn: 0.3377105\ttotal: 10.7ms\tremaining: 78.6ms\n",
      "3:\tlearn: 0.2782126\ttotal: 14.2ms\tremaining: 74.6ms\n",
      "4:\tlearn: 0.2319368\ttotal: 17.7ms\tremaining: 70.8ms\n",
      "5:\tlearn: 0.2018599\ttotal: 21.8ms\tremaining: 69ms\n",
      "6:\tlearn: 0.1799979\ttotal: 26.5ms\tremaining: 68.1ms\n",
      "7:\tlearn: 0.1620918\ttotal: 30.2ms\tremaining: 64.1ms\n",
      "8:\tlearn: 0.1511902\ttotal: 33.9ms\tremaining: 60.2ms\n",
      "9:\tlearn: 0.1420637\ttotal: 38.4ms\tremaining: 57.6ms\n",
      "10:\tlearn: 0.1293722\ttotal: 42.7ms\tremaining: 54.4ms\n",
      "11:\tlearn: 0.1223122\ttotal: 46.2ms\tremaining: 50ms\n",
      "12:\tlearn: 0.1157275\ttotal: 51.5ms\tremaining: 47.6ms\n",
      "13:\tlearn: 0.1110955\ttotal: 54.8ms\tremaining: 43.1ms\n",
      "14:\tlearn: 0.1050374\ttotal: 57.7ms\tremaining: 38.4ms\n",
      "15:\tlearn: 0.0999004\ttotal: 60.4ms\tremaining: 34ms\n",
      "16:\tlearn: 0.0944015\ttotal: 63.3ms\tremaining: 29.8ms\n",
      "17:\tlearn: 0.0907114\ttotal: 66.9ms\tremaining: 26ms\n",
      "18:\tlearn: 0.0832991\ttotal: 69.8ms\tremaining: 22ms\n",
      "19:\tlearn: 0.0785523\ttotal: 72.5ms\tremaining: 18.1ms\n",
      "20:\tlearn: 0.0737085\ttotal: 75.3ms\tremaining: 14.3ms\n",
      "21:\tlearn: 0.0697420\ttotal: 78.1ms\tremaining: 10.6ms\n",
      "22:\tlearn: 0.0669475\ttotal: 81ms\tremaining: 7.04ms\n",
      "23:\tlearn: 0.0646969\ttotal: 84.2ms\tremaining: 3.51ms\n",
      "24:\tlearn: 0.0615277\ttotal: 87.2ms\tremaining: 0us\n"
     ]
    },
    {
     "data": {
      "text/plain": [
       "<catboost.core.CatBoostClassifier at 0x25f8bbc5940>"
      ]
     },
     "execution_count": 22,
     "metadata": {},
     "output_type": "execute_result"
    }
   ],
   "source": [
    "cat = CatBoostClassifier(iterations = 25)\n",
    "cat.fit(X_train,y_train)"
   ]
  },
  {
   "cell_type": "code",
   "execution_count": 23,
   "id": "6351bc5a-c718-4d63-8d94-7b1818b0dd64",
   "metadata": {},
   "outputs": [
    {
     "name": "stdout",
     "output_type": "stream",
     "text": [
      "Cat model score: 99.01234567901234% \n"
     ]
    }
   ],
   "source": [
    "print('Cat model score: {}% '.format(cat.score(X_test,y_test) * 100))"
   ]
  },
  {
   "cell_type": "code",
   "execution_count": 21,
   "id": "30ca6202-393d-49ec-81c2-62f91dba3bad",
   "metadata": {},
   "outputs": [],
   "source": [
    "data.to_csv('Final Data')"
   ]
  }
 ],
 "metadata": {
  "kernelspec": {
   "display_name": "Python 3",
   "language": "python",
   "name": "python3"
  },
  "language_info": {
   "codemirror_mode": {
    "name": "ipython",
    "version": 3
   },
   "file_extension": ".py",
   "mimetype": "text/x-python",
   "name": "python",
   "nbconvert_exporter": "python",
   "pygments_lexer": "ipython3",
   "version": "3.8.8"
  }
 },
 "nbformat": 4,
 "nbformat_minor": 5
}
